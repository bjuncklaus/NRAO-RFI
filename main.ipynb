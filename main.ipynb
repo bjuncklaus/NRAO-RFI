{
 "cells": [
  {
   "cell_type": "code",
   "execution_count": 2,
   "metadata": {},
   "outputs": [
    {
     "ename": "ModuleNotFoundError",
     "evalue": "No module named 'matplotlib'",
     "output_type": "error",
     "traceback": [
      "\u001b[0;31m---------------------------------------------------------------------------\u001b[0m",
      "\u001b[0;31mModuleNotFoundError\u001b[0m                       Traceback (most recent call last)",
      "\u001b[0;32m<ipython-input-2-b09dcc774c4d>\u001b[0m in \u001b[0;36m<module>\u001b[0;34m()\u001b[0m\n\u001b[1;32m      3\u001b[0m \u001b[0;32mimport\u001b[0m \u001b[0mmath\u001b[0m\u001b[0;34m\u001b[0m\u001b[0m\n\u001b[1;32m      4\u001b[0m \u001b[0;32mimport\u001b[0m \u001b[0mnumpy\u001b[0m \u001b[0;32mas\u001b[0m \u001b[0mnp\u001b[0m\u001b[0;34m\u001b[0m\u001b[0m\n\u001b[0;32m----> 5\u001b[0;31m \u001b[0;32mimport\u001b[0m \u001b[0mmatplotlib\u001b[0m\u001b[0;34m.\u001b[0m\u001b[0mpyplot\u001b[0m \u001b[0;32mas\u001b[0m \u001b[0mplt\u001b[0m\u001b[0;34m\u001b[0m\u001b[0m\n\u001b[0m\u001b[1;32m      6\u001b[0m \u001b[0;34m\u001b[0m\u001b[0m\n\u001b[1;32m      7\u001b[0m \u001b[0;32mimport\u001b[0m \u001b[0mcopy\u001b[0m \u001b[0;31m# to copy lists for python2.7\u001b[0m\u001b[0;34m\u001b[0m\u001b[0m\n",
      "\u001b[0;31mModuleNotFoundError\u001b[0m: No module named 'matplotlib'"
     ]
    }
   ],
   "source": [
    "import random\n",
    "import time\n",
    "import math\n",
    "import numpy as np\n",
    "import matplotlib.pyplot as plt\n",
    "\n",
    "import copy # to copy lists for python2.7\n",
    "\n",
    "try:\n",
    "    from .individual_single_mode import Individual\n",
    "except Exception: #ImportError\n",
    "    from individual_single_mode import Individual"
   ]
  },
  {
   "cell_type": "code",
   "execution_count": 2,
   "metadata": {
    "collapsed": true
   },
   "outputs": [],
   "source": [
    "############################### EVALFLAG.PY ##########################################\n",
    "## A method to evaluate the quality of flagging.\n",
    "\n",
    "## Inputs : data, flags\n",
    "## Output : some metric of quality.\n",
    "\n",
    "## Test : Run tfcrop/rflag with diff params, saving flagversions\n",
    "##           Extract the 2D flags (perhaps just from flagversions)\n",
    "\n",
    "VIS_DIR = '/Users/bjuncklaus/Dropbox/Evolutionary/Data/datasets/'\n",
    "VIS_FILENAME = 'FewScans_G55_Spw2_Scan50.ms'\n",
    "# VIS_FILENAME = 'FewScans_G55_Spw6_Scan6_HanningSmooth.ms'\n",
    "# VIS_FILENAME = 'Four_ants_3C286.ms_Spw9_Scan30.ms'\n",
    "# VIS_FILENAME = 'G29_Spw0_Scan145.ms'\n",
    "# VIS_FILENAME = 'G29_Spw0_Scan38.ms'\n",
    "# VIS_FILENAME = 'G29_Spw7_Scan83.ms'\n",
    "# TODO - put the % Flagged on the best fit\n",
    "# VIS_FILENAME = 'FewScans_G55_Spw6_Scan52_HanningSmooth.ms'\n",
    "# VIS = '/home/vega2/bmartins/datasets/FewScans_G55_Spw2_Scan4.ms'\n",
    "# VIS = '/Users/bjuncklaus/Dropbox/Evolutionary/Data/datasets/FewScans_G55_Spw6_Scan4_HanningSmooth.ms'\n",
    "VIS = VIS_DIR + VIS_FILENAME"
   ]
  },
  {
   "cell_type": "code",
   "execution_count": 1,
   "metadata": {
    "collapsed": true
   },
   "outputs": [],
   "source": [
    "def runtest(cmdlist=[]):\n",
    "    ## G55 dataset\n",
    "    ## scans 4,6 are 3C286\n",
    "    ## scans 50,52 are G55 SNR\n",
    "    ## spws 6 and 11 have good representative RFI.\n",
    "\n",
    "\n",
    "    # vis = '/home/vega2/bmartins/datasets/FewScans_G55_Spw7_Scan4.ms'\n",
    "\n",
    "    # vis = '../Data/Four_ants_3C286.ms'\n",
    "\n",
    "    spw = '0'\n",
    "    scan = '4'\n",
    "    vname = 'v1'\n",
    "\n",
    "    ## Run the flagging\n",
    "    flagdata(vis=VIS, mode='unflag', flagbackup=False)\n",
    "\n",
    "    if (not cmdlist):\n",
    "    #     tfcrop_params = \"spw='\" + spw + \"' scan='\" + scan + \"'\" + cmdlist[0]\n",
    "    #     extend_params = \"spw='\" + spw + \"' scan='\" + scan + \"'\" + cmdlist[1]\n",
    "    #     cmdlist = [tfcrop_params, extend_params]\n",
    "    # else:\n",
    "        # cmdlist = [\"spw='\"+spw+\"' scan='\"+scan+\"' mode='tfcrop' maxnpieces=4 freqcutoff=3.0 usewindowstats='sum' \" ,\n",
    "        #              \"spw='\"+spw+\"' scan='\"+scan+\"' mode='extend' growaround=True growtime=60.0\" ]\n",
    "        cmdlist = [\"' mode='tfcrop'\"]  # default value\n",
    "\n",
    "    print()\n",
    "    print(\"CMDLIST:\", cmdlist)\n",
    "\n",
    "    flagdata(vis=VIS, mode='list', inpfile=cmdlist, flagbackup=False)\n",
    "    # flagmanager(vis=vis, mode='save', versionname=vname)\n",
    "\n",
    "    ## Read the flags\n",
    "    # flagmanager(vis=vis, mode='restore', versionname=vname)\n",
    "    dat = getvals(col='DATA', vis=VIS)\n",
    "    flag = getvals(col='FLAG', vis=VIS)\n",
    "\n",
    "    # plotit(dat, flag)\n",
    "\n",
    "    flag_percentage = np.sum(flag) / (1.0 * np.prod(flag.shape)) * 100.0\n",
    "    print('% Flagged : ', flag_percentage)\n",
    "    print('VIS : ', VIS_FILENAME)\n",
    "\n",
    "    score = calcquality(dat, flag)\n",
    "    if (math.isnan(score)):\n",
    "        return float(\"inf\"), flag_percentage\n",
    "\n",
    "    return score, flag_percentage"
   ]
  },
  {
   "cell_type": "code",
   "execution_count": null,
   "metadata": {
    "collapsed": true
   },
   "outputs": [],
   "source": []
  }
 ],
 "metadata": {
  "kernelspec": {
   "display_name": "Python 3",
   "language": "python",
   "name": "python3"
  },
  "language_info": {
   "codemirror_mode": {
    "name": "ipython",
    "version": 3
   },
   "file_extension": ".py",
   "mimetype": "text/x-python",
   "name": "python",
   "nbconvert_exporter": "python",
   "pygments_lexer": "ipython3",
   "version": "3.5.3"
  }
 },
 "nbformat": 4,
 "nbformat_minor": 2
}
