{
 "cells": [
  {
   "cell_type": "code",
   "execution_count": 2,
   "metadata": {
    "collapsed": true
   },
   "outputs": [],
   "source": [
    "import random\n",
    "import time\n",
    "import math\n",
    "import numpy as np\n",
    "import matplotlib.pyplot as plt\n",
    "\n",
    "import copy # to copy lists for python2.7\n",
    "\n",
    "try:\n",
    "    from .individual_single_mode import Individual\n",
    "except Exception: #ImportError\n",
    "    from individual_single_mode import Individual"
   ]
  },
  {
   "cell_type": "code",
   "execution_count": 3,
   "metadata": {
    "collapsed": true
   },
   "outputs": [],
   "source": [
    "############################### EVALFLAG.PY ##########################################\n",
    "## A method to evaluate the quality of flagging.\n",
    "\n",
    "## Inputs : data, flags\n",
    "## Output : some metric of quality.\n",
    "\n",
    "## Test : Run tfcrop/rflag with diff params, saving flagversions\n",
    "##           Extract the 2D flags (perhaps just from flagversions)\n",
    "\n",
    "VIS_DIR = '/Users/bjuncklaus/Dropbox/Evolutionary/Data/datasets/'\n",
    "VIS_FILENAME = 'FewScans_G55_Spw2_Scan50.ms'\n",
    "# VIS_FILENAME = 'FewScans_G55_Spw6_Scan6_HanningSmooth.ms'\n",
    "# VIS_FILENAME = 'Four_ants_3C286.ms_Spw9_Scan30.ms'\n",
    "# VIS_FILENAME = 'G29_Spw0_Scan145.ms'\n",
    "# VIS_FILENAME = 'G29_Spw0_Scan38.ms'\n",
    "# VIS_FILENAME = 'G29_Spw7_Scan83.ms'\n",
    "# TODO - put the % Flagged on the best fit\n",
    "# VIS_FILENAME = 'FewScans_G55_Spw6_Scan52_HanningSmooth.ms'\n",
    "# VIS = '/home/vega2/bmartins/datasets/FewScans_G55_Spw2_Scan4.ms'\n",
    "# VIS = '/Users/bjuncklaus/Dropbox/Evolutionary/Data/datasets/FewScans_G55_Spw6_Scan4_HanningSmooth.ms'\n",
    "VIS = VIS_DIR + VIS_FILENAME"
   ]
  },
  {
   "cell_type": "code",
   "execution_count": 4,
   "metadata": {
    "collapsed": true
   },
   "outputs": [],
   "source": [
    "def runtest(cmdlist=[]):\n",
    "    ## G55 dataset\n",
    "    ## scans 4,6 are 3C286\n",
    "    ## scans 50,52 are G55 SNR\n",
    "    ## spws 6 and 11 have good representative RFI.\n",
    "\n",
    "\n",
    "    # vis = '/home/vega2/bmartins/datasets/FewScans_G55_Spw7_Scan4.ms'\n",
    "\n",
    "    # vis = '../Data/Four_ants_3C286.ms'\n",
    "\n",
    "    spw = '0'\n",
    "    scan = '4'\n",
    "    vname = 'v1'\n",
    "\n",
    "    ## Run the flagging\n",
    "    flagdata(vis=VIS, mode='unflag', flagbackup=False)\n",
    "\n",
    "    if (not cmdlist):\n",
    "    #     tfcrop_params = \"spw='\" + spw + \"' scan='\" + scan + \"'\" + cmdlist[0]\n",
    "    #     extend_params = \"spw='\" + spw + \"' scan='\" + scan + \"'\" + cmdlist[1]\n",
    "    #     cmdlist = [tfcrop_params, extend_params]\n",
    "    # else:\n",
    "        # cmdlist = [\"spw='\"+spw+\"' scan='\"+scan+\"' mode='tfcrop' maxnpieces=4 freqcutoff=3.0 usewindowstats='sum' \" ,\n",
    "        #              \"spw='\"+spw+\"' scan='\"+scan+\"' mode='extend' growaround=True growtime=60.0\" ]\n",
    "        cmdlist = [\"' mode='tfcrop'\"]  # default value\n",
    "\n",
    "    print()\n",
    "    print(\"CMDLIST:\", cmdlist)\n",
    "\n",
    "    flagdata(vis=VIS, mode='list', inpfile=cmdlist, flagbackup=False)\n",
    "    # flagmanager(vis=vis, mode='save', versionname=vname)\n",
    "\n",
    "    ## Read the flags\n",
    "    # flagmanager(vis=vis, mode='restore', versionname=vname)\n",
    "    dat = getvals(col='DATA', vis=VIS)\n",
    "    flag = getvals(col='FLAG', vis=VIS)\n",
    "\n",
    "    # plotit(dat, flag)\n",
    "\n",
    "    flag_percentage = np.sum(flag) / (1.0 * np.prod(flag.shape)) * 100.0\n",
    "    print('% Flagged : ', flag_percentage)\n",
    "    print('VIS : ', VIS_FILENAME)\n",
    "\n",
    "    score = calcquality(dat, flag)\n",
    "    if (math.isnan(score)):\n",
    "        return float(\"inf\"), flag_percentage\n",
    "\n",
    "    return score, flag_percentage"
   ]
  },
  {
   "cell_type": "code",
   "execution_count": 5,
   "metadata": {
    "collapsed": true
   },
   "outputs": [],
   "source": [
    "def calcquality(dat, flag):\n",
    "    \"\"\" Need to minimize the score that it returns\"\"\"\n",
    "\n",
    "    shp = dat.shape\n",
    "\n",
    "    npts = 0\n",
    "    sumsq = 0.0\n",
    "    maxval = 0.0\n",
    "    leftover = []\n",
    "    flagged = []\n",
    "    for chan in range(0, shp[1]):\n",
    "        for tm in range(0, shp[2]):\n",
    "            val = np.abs(dat[0, chan, tm])\n",
    "            if flag[0, chan, tm] == False:\n",
    "                leftover.append(val)\n",
    "            else:\n",
    "                flagged.append(val)\n",
    "\n",
    "    dmax, dmean, dstd = printstats(np.abs(dat[0, :, :]))\n",
    "    rmax, rmean, rstd = printstats(leftover)\n",
    "    fmax, fmean, fstd = printstats(flagged)\n",
    "\n",
    "    maxdev = (rmax - rmean) / rstd\n",
    "    fdiff = fmean - rmean\n",
    "    sdiff = fstd - rstd\n",
    "\n",
    "    print(\"Max deviation after flagging : \", maxdev)\n",
    "    print(\"Diff in mean of flagged and unflagged : \", fdiff)\n",
    "    print(\"Std after flagging : \", rstd)\n",
    "\n",
    "    aa = np.abs(np.abs(maxdev) - 3.0)\n",
    "    bb = 1.0 / ((np.abs(fdiff) - rstd) / rstd)\n",
    "    cc = 1.0 / (np.abs(sdiff) / rstd)\n",
    "    dd = 0.0\n",
    "\n",
    "    pflag = (len(flagged) / (1.0 * shp[1] * shp[2])) * 100.0\n",
    "    #\n",
    "    # if pflag > 95.0:  # Check if what's flagged really looks like RFI.\n",
    "    #     ## Mean and std should look similar...\n",
    "    #     dd = (fmean - fstd) / fstd\n",
    "\n",
    "    if pflag > 75.0:  # Check if what's flagged really looks like RFI.\n",
    "        ## More flags means a worse score...\n",
    "        dd = (pflag - 75.0) / 10.0\n",
    "\n",
    "    res = np.sqrt(aa ** 2 + bb ** 2 + cc * 2 + dd * 2)\n",
    "\n",
    "    if (fdiff < 0.0):\n",
    "        res = res + res + 10.0\n",
    "\n",
    "    print(\"Score : \", res)\n",
    "\n",
    "    return res"
   ]
  },
  {
   "cell_type": "code",
   "execution_count": 6,
   "metadata": {
    "collapsed": true
   },
   "outputs": [],
   "source": [
    "def printstats(arr):\n",
    "    if (len(arr) == 0):\n",
    "        return 0, 0, 1\n",
    "\n",
    "    med = np.median(arr)\n",
    "    std = np.std(arr)\n",
    "    maxa = np.max(arr)\n",
    "    mean = np.mean(arr)\n",
    "    # print 'median : ', med\n",
    "    # print 'std : ', std\n",
    "    # print 'max : ', maxa\n",
    "    # print 'mean : ', mean\n",
    "    # print \" (Max - mean)/std : \", ( maxa - mean ) / std\n",
    "\n",
    "    return maxa, mean, std"
   ]
  },
  {
   "cell_type": "code",
   "execution_count": 7,
   "metadata": {
    "collapsed": true
   },
   "outputs": [],
   "source": [
    "def getvals(col='DATA', vis=\"\", spw=\"\", scan=\"\"):\n",
    "\n",
    "    # print(\"SPW:\", spw, \"DDID:\", ddid)\n",
    "\n",
    "    tb.open(vis)\n",
    "    if (spw and scan):\n",
    "        tb.open(vis + '/DATA_DESCRIPTION')\n",
    "        spwids = tb.getcol('SPECTRAL_WINDOW_ID')\n",
    "        ddid = str(np.where(spwids == eval(spw))[0][0])\n",
    "        tb1 = tb.query('SCAN_NUMBER==' + scan + ' && DATA_DESC_ID==' + ddid + ' && ANTENNA1=1 && ANTENNA2=2')\n",
    "    else:\n",
    "        tb1 = tb.query('ANTENNA1=1 && ANTENNA2=2')\n",
    "    dat = tb1.getcol(col)\n",
    "    tb1.close()\n",
    "    tb.close()\n",
    "    return dat"
   ]
  },
  {
   "cell_type": "code",
   "execution_count": 1,
   "metadata": {
    "collapsed": true
   },
   "outputs": [],
   "source": [
    "def plotit(dat, flag):\n",
    "    pl.clf()\n",
    "    pl.subplot(121)\n",
    "    pl.imshow(np.abs(dat[0, :, :]))\n",
    "    pl.subplot(122)\n",
    "    pl.imshow(np.abs(dat[0, :, :] * (1 - flag[0, :, :])))"
   ]
  },
  {
   "cell_type": "code",
   "execution_count": null,
   "metadata": {
    "collapsed": true
   },
   "outputs": [],
   "source": []
  }
 ],
 "metadata": {
  "kernelspec": {
   "display_name": "Python 3",
   "language": "python",
   "name": "python3"
  },
  "language_info": {
   "codemirror_mode": {
    "name": "ipython",
    "version": 3
   },
   "file_extension": ".py",
   "mimetype": "text/x-python",
   "name": "python",
   "nbconvert_exporter": "python",
   "pygments_lexer": "ipython3",
   "version": "3.5.3"
  }
 },
 "nbformat": 4,
 "nbformat_minor": 2
}
