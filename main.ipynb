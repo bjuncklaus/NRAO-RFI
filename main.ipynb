{
 "cells": [
  {
   "cell_type": "code",
   "execution_count": 2,
   "metadata": {},
   "outputs": [
    {
     "ename": "ModuleNotFoundError",
     "evalue": "No module named 'matplotlib'",
     "output_type": "error",
     "traceback": [
      "\u001b[0;31m---------------------------------------------------------------------------\u001b[0m",
      "\u001b[0;31mModuleNotFoundError\u001b[0m                       Traceback (most recent call last)",
      "\u001b[0;32m<ipython-input-2-b09dcc774c4d>\u001b[0m in \u001b[0;36m<module>\u001b[0;34m()\u001b[0m\n\u001b[1;32m      3\u001b[0m \u001b[0;32mimport\u001b[0m \u001b[0mmath\u001b[0m\u001b[0;34m\u001b[0m\u001b[0m\n\u001b[1;32m      4\u001b[0m \u001b[0;32mimport\u001b[0m \u001b[0mnumpy\u001b[0m \u001b[0;32mas\u001b[0m \u001b[0mnp\u001b[0m\u001b[0;34m\u001b[0m\u001b[0m\n\u001b[0;32m----> 5\u001b[0;31m \u001b[0;32mimport\u001b[0m \u001b[0mmatplotlib\u001b[0m\u001b[0;34m.\u001b[0m\u001b[0mpyplot\u001b[0m \u001b[0;32mas\u001b[0m \u001b[0mplt\u001b[0m\u001b[0;34m\u001b[0m\u001b[0m\n\u001b[0m\u001b[1;32m      6\u001b[0m \u001b[0;34m\u001b[0m\u001b[0m\n\u001b[1;32m      7\u001b[0m \u001b[0;32mimport\u001b[0m \u001b[0mcopy\u001b[0m \u001b[0;31m# to copy lists for python2.7\u001b[0m\u001b[0;34m\u001b[0m\u001b[0m\n",
      "\u001b[0;31mModuleNotFoundError\u001b[0m: No module named 'matplotlib'"
     ]
    }
   ],
   "source": [
    "import random\n",
    "import time\n",
    "import math\n",
    "import numpy as np\n",
    "import matplotlib.pyplot as plt\n",
    "\n",
    "import copy # to copy lists for python2.7\n",
    "\n",
    "try:\n",
    "    from .individual_single_mode import Individual\n",
    "except Exception: #ImportError\n",
    "    from individual_single_mode import Individual"
   ]
  },
  {
   "cell_type": "code",
   "execution_count": 2,
   "metadata": {},
   "outputs": [],
   "source": [
    "############################### EVALFLAG.PY ##########################################\n",
    "## A method to evaluate the quality of flagging.\n",
    "\n",
    "## Inputs : data, flags\n",
    "## Output : some metric of quality.\n",
    "\n",
    "## Test : Run tfcrop/rflag with diff params, saving flagversions\n",
    "##           Extract the 2D flags (perhaps just from flagversions)\n",
    "\n",
    "VIS_DIR = '/Users/bjuncklaus/Dropbox/Evolutionary/Data/datasets/'\n",
    "VIS_FILENAME = 'FewScans_G55_Spw2_Scan50.ms'\n",
    "# VIS_FILENAME = 'FewScans_G55_Spw6_Scan6_HanningSmooth.ms'\n",
    "# VIS_FILENAME = 'Four_ants_3C286.ms_Spw9_Scan30.ms'\n",
    "# VIS_FILENAME = 'G29_Spw0_Scan145.ms'\n",
    "# VIS_FILENAME = 'G29_Spw0_Scan38.ms'\n",
    "# VIS_FILENAME = 'G29_Spw7_Scan83.ms'\n",
    "# TODO - put the % Flagged on the best fit\n",
    "# VIS_FILENAME = 'FewScans_G55_Spw6_Scan52_HanningSmooth.ms'\n",
    "# VIS = '/home/vega2/bmartins/datasets/FewScans_G55_Spw2_Scan4.ms'\n",
    "# VIS = '/Users/bjuncklaus/Dropbox/Evolutionary/Data/datasets/FewScans_G55_Spw6_Scan4_HanningSmooth.ms'\n",
    "VIS = VIS_DIR + VIS_FILENAME"
   ]
  },
  {
   "cell_type": "code",
   "execution_count": null,
   "metadata": {},
   "outputs": [],
   "source": []
  }
 ],
 "metadata": {
  "kernelspec": {
   "display_name": "Python 3",
   "language": "python",
   "name": "python3"
  },
  "language_info": {
   "codemirror_mode": {
    "name": "ipython",
    "version": 3
   },
   "file_extension": ".py",
   "mimetype": "text/x-python",
   "name": "python",
   "nbconvert_exporter": "python",
   "pygments_lexer": "ipython3",
   "version": "3.6.2"
  }
 },
 "nbformat": 4,
 "nbformat_minor": 2
}
